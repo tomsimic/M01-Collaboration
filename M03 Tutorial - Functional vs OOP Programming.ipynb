{
 "cells": [
  {
   "cell_type": "code",
   "execution_count": null,
   "id": "ba1b2060-d784-4de8-af09-3a1ef5dac42c",
   "metadata": {},
   "outputs": [],
   "source": [
    "#User function Template for python3\n",
    "\n",
    "class Solution:\n",
    "    def sort012(self,arr,n):\n",
    "        arr.sort()\n",
    "\n"
   ]
  },
  {
   "cell_type": "code",
   "execution_count": null,
   "id": "68774d09-71cf-4735-87f8-3bda11d6f472",
   "metadata": {},
   "outputs": [],
   "source": [
    "class Solution:\t\n",
    "\tdef binarysearch(self, arr, n, k):\n",
    "\t\tstart_index = 0\n",
    "\t\tend_index = len(arr) - 1\n",
    "\t\twhile start_index <= end_index:\n",
    "\t\t    mid_index = start_index + (end_index - start_index) //2\n",
    "\t\t    mid_index_value = arr[mid_index]\n",
    "\t\t    if mid_index_value == k:\n",
    "\t\t        return mid_index\n",
    "\t        elif k < mid_index_value:\n",
    "\t            end_index = mid_index -1\n",
    "            else:\n",
    "                start_index = mid_index +1\n",
    "        return '-1'"
   ]
  }
 ],
 "metadata": {
  "kernelspec": {
   "display_name": "Python 3 (ipykernel)",
   "language": "python",
   "name": "python3"
  },
  "language_info": {
   "codemirror_mode": {
    "name": "ipython",
    "version": 3
   },
   "file_extension": ".py",
   "mimetype": "text/x-python",
   "name": "python",
   "nbconvert_exporter": "python",
   "pygments_lexer": "ipython3",
   "version": "3.11.7"
  }
 },
 "nbformat": 4,
 "nbformat_minor": 5
}
