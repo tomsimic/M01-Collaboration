{
 "cells": [
  {
   "cell_type": "code",
   "execution_count": 1,
   "id": "a25e8345-cd86-4dfe-a7c2-c268d76921f5",
   "metadata": {},
   "outputs": [],
   "source": [
    "from datetime import date\n",
    "with open('today.txt', 'w') as file:\n",
    "    file.write(str(date.today()))"
   ]
  },
  {
   "cell_type": "code",
   "execution_count": 2,
   "id": "ddc44e68-6742-4a2c-824b-f5d3c331805f",
   "metadata": {},
   "outputs": [],
   "source": [
    "from datetime import date\n",
    "with open('today.txt', 'r') as file:\n",
    "    today_string = file.readline().split('-')"
   ]
  },
  {
   "cell_type": "code",
   "execution_count": 3,
   "id": "22cd766a-a2ce-4b50-936e-190cedd28f70",
   "metadata": {},
   "outputs": [
    {
     "name": "stdout",
     "output_type": "stream",
     "text": [
      "Wednesday, April 24\n"
     ]
    }
   ],
   "source": [
    "from datetime import date\n",
    "with open('today.txt', 'r') as file:\n",
    "    today_string = file.readline().split('-')\n",
    "today_string = [int(seg) for seg in today_string]\n",
    "print((date(today_string[0], today_string[1],\n",
    "      today_string[2])).strftime('%A, %B %d'))"
   ]
  },
  {
   "cell_type": "code",
   "execution_count": 5,
   "id": "d4d22b79-bf9d-4777-baae-2855843c6c4c",
   "metadata": {},
   "outputs": [
    {
     "name": "stdout",
     "output_type": "stream",
     "text": [
      "Current time is: 02:4928 PM\n",
      "Current time is: 02:4928 PM\n",
      "Current time is: 02:4928 PM\n"
     ]
    }
   ],
   "source": [
    "import multiprocessing\n",
    "import time\n",
    "from random import randint as rd\n",
    "if __name__==\"__main__\":\n",
    "    for timing in range(3):\n",
    "        right_now = multiprocessing.Process(print(\"Current time is: %s\" % time.strftime(\"%I:%M%S %p\", time.localtime())))\n",
    "        right_now.start()\n",
    "        time.sleep(rd(0,1))"
   ]
  },
  {
   "cell_type": "code",
   "execution_count": null,
   "id": "0e671de9-8127-4c8b-bd2d-273e4ab31f2f",
   "metadata": {},
   "outputs": [],
   "source": []
  }
 ],
 "metadata": {
  "kernelspec": {
   "display_name": "Python 3 (ipykernel)",
   "language": "python",
   "name": "python3"
  },
  "language_info": {
   "codemirror_mode": {
    "name": "ipython",
    "version": 3
   },
   "file_extension": ".py",
   "mimetype": "text/x-python",
   "name": "python",
   "nbconvert_exporter": "python",
   "pygments_lexer": "ipython3",
   "version": "3.11.7"
  }
 },
 "nbformat": 4,
 "nbformat_minor": 5
}
