{
 "cells": [
  {
   "cell_type": "code",
   "execution_count": 8,
   "id": "cf77f606-550d-4b3b-9d50-497392372b20",
   "metadata": {},
   "outputs": [
    {
     "name": "stdout",
     "output_type": "stream",
     "text": [
      "too low\n"
     ]
    }
   ],
   "source": [
    "secret = 7\n",
    "guess = 3\n",
    "if guess > secret:\n",
    "    print(\"too high\")\n",
    "if guess < secret:\n",
    "    print(\"too low\")\n",
    "if guess == secret:\n",
    "    print(\"just right\")"
   ]
  },
  {
   "cell_type": "code",
   "execution_count": 20,
   "id": "27c95033-ba2b-4c53-833e-67eef1eb548f",
   "metadata": {},
   "outputs": [
    {
     "name": "stdout",
     "output_type": "stream",
     "text": [
      "Meet both criteria\n",
      "False True\n",
      "One or both don't meet the set criteria\n",
      "False False\n",
      "One or both don't meet the set criteria\n",
      "True False\n",
      "One or both don't meet the set criteria\n",
      "True True\n"
     ]
    }
   ],
   "source": [
    "small = False\n",
    "green = True\n",
    "produce = [\"watermelon\", \"pumpkin\", \"cherry\", \"pea\"]\n",
    "for item in produce:\n",
    "    if item == \"watermelon\":\n",
    "        print(\"Meet both criteria\")\n",
    "        print(small, green)\n",
    "    if item == \"pumpkin\":\n",
    "        green = False\n",
    "        print(small, green)\n",
    "    if item == \"cherry\":\n",
    "        small = True\n",
    "        green = False\n",
    "        print(small, green)\n",
    "    if item == \"pea\":\n",
    "        small = True\n",
    "        green = True\n",
    "        print(small, green)\n",
    "    else:\n",
    "        print(\"One or both don't meet the set criteria\")\n",
    "    "
   ]
  },
  {
   "cell_type": "code",
   "execution_count": 21,
   "id": "de42d385-0096-4e36-95b3-8b2b909a07ad",
   "metadata": {},
   "outputs": [
    {
     "name": "stdout",
     "output_type": "stream",
     "text": [
      "3\n",
      "2\n",
      "1\n",
      "0\n"
     ]
    }
   ],
   "source": [
    "for number in [3,2,1,0]:\n",
    "    print(number)"
   ]
  },
  {
   "cell_type": "code",
   "execution_count": 22,
   "id": "7b283864-025e-4bed-913e-e63d41f16978",
   "metadata": {},
   "outputs": [
    {
     "name": "stdout",
     "output_type": "stream",
     "text": [
      "1 too low\n",
      "2 too low\n",
      "3 too low\n",
      "4 too low\n",
      "5 too low\n",
      "6 too low\n",
      "7 found it!\n"
     ]
    }
   ],
   "source": [
    "guess_me = 7\n",
    "number = 1\n",
    "while number <= guess_me:\n",
    "     if number < guess_me:\n",
    "             print(number, \"too low\")\n",
    "     if number == guess_me:\n",
    "             print(number, \"found it!\")\n",
    "     if number > guess_me:\n",
    "             print(\"oops\")\n",
    "             break\n",
    "     number += 1"
   ]
  },
  {
   "cell_type": "code",
   "execution_count": 24,
   "id": "f0705cb6-5165-465d-91cf-04d70d5d20e7",
   "metadata": {},
   "outputs": [
    {
     "name": "stdout",
     "output_type": "stream",
     "text": [
      "too low\n",
      "too low\n",
      "too low\n",
      "too low\n",
      "too low\n",
      "found it!\n"
     ]
    }
   ],
   "source": [
    "guess_me = 5\n",
    "for number in range(10):\n",
    "    if number < guess_me:\n",
    "        print(\"too low\")\n",
    "    if number == guess_me:\n",
    "        print(\"found it!\")\n",
    "        break\n",
    "    if number > guess_me:\n",
    "        print(\"oops\")\n",
    "        break"
   ]
  },
  {
   "cell_type": "code",
   "execution_count": null,
   "id": "d1b34062-a744-4d2f-ab16-791942d749f0",
   "metadata": {},
   "outputs": [],
   "source": []
  }
 ],
 "metadata": {
  "kernelspec": {
   "display_name": "Python 3 (ipykernel)",
   "language": "python",
   "name": "python3"
  },
  "language_info": {
   "codemirror_mode": {
    "name": "ipython",
    "version": 3
   },
   "file_extension": ".py",
   "mimetype": "text/x-python",
   "name": "python",
   "nbconvert_exporter": "python",
   "pygments_lexer": "ipython3",
   "version": "3.11.7"
  }
 },
 "nbformat": 4,
 "nbformat_minor": 5
}
